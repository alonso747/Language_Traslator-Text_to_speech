{
 "cells": [
  {
   "cell_type": "markdown",
   "metadata": {},
   "source": [
    "# Language translator - Text to speech (Traductor de idiomas - Texto a voz)\n",
    "# "
   ]
  },
  {
   "cell_type": "markdown",
   "metadata": {},
   "source": [
    "Como primer paso instalamos la librería ibm_watson, esta librería nos ayudará a conectarnos con los diversos servicios de las API de Watson ."
   ]
  },
  {
   "cell_type": "code",
   "execution_count": null,
   "metadata": {},
   "outputs": [],
   "source": [
    "#!pip install ibm_watson"
   ]
  },
  {
   "cell_type": "markdown",
   "metadata": {},
   "source": [
    "## \n",
    "# Autenticación\n"
   ]
  },
  {
   "cell_type": "markdown",
   "metadata": {},
   "source": [
    "Genereamos nuestras API keys, esto mediante la nube de IBM, previamente tendremos que loguearnos y buscar el servicio"
   ]
  },
  {
   "cell_type": "code",
   "execution_count": 1,
   "metadata": {},
   "outputs": [],
   "source": [
    "apikey = '9yKkIQgUlXIX9a_qUphXSN8OxcU96va0iGO5bYfXfoW_'\n",
    "url = 'https://api.us-south.language-translator.watson.cloud.ibm.com/instances/719b30de-408c-4dce-ad1f-3dc726e5770a'"
   ]
  },
  {
   "cell_type": "code",
   "execution_count": 2,
   "metadata": {},
   "outputs": [],
   "source": [
    "# importamos dependencias\n",
    "\n",
    "from ibm_watson import LanguageTranslatorV3\n",
    "from ibm_cloud_sdk_core.authenticators import IAMAuthenticator"
   ]
  },
  {
   "cell_type": "code",
   "execution_count": 3,
   "metadata": {},
   "outputs": [],
   "source": [
    "# configurando el servicio\n",
    "\n",
    "authenticator = IAMAuthenticator(apikey)\n",
    "lt = LanguageTranslatorV3(version='2018-05-01', authenticator=authenticator)\n",
    "lt.set_service_url(url) # corremos el servicio"
   ]
  },
  {
   "cell_type": "markdown",
   "metadata": {},
   "source": [
    "## \n",
    "# Traduciendo una cadena de texto"
   ]
  },
  {
   "cell_type": "markdown",
   "metadata": {},
   "source": [
    "Para este caso traduciremos el texto \"Pablo asea su oso en su casa\" al idioma inglés."
   ]
  },
  {
   "cell_type": "code",
   "execution_count": 5,
   "metadata": {},
   "outputs": [],
   "source": [
    "translation = lt.translate(text='Pablo asea su oso en su casa', model_id='es-en').get_result()"
   ]
  },
  {
   "cell_type": "code",
   "execution_count": 6,
   "metadata": {},
   "outputs": [
    {
     "data": {
      "text/plain": [
       "{'translations': [{'translation': 'Paul asps his bear in his house'}],\n",
       " 'word_count': 7,\n",
       " 'character_count': 28}"
      ]
     },
     "execution_count": 6,
     "metadata": {},
     "output_type": "execute_result"
    }
   ],
   "source": [
    "translation"
   ]
  },
  {
   "cell_type": "code",
   "execution_count": 8,
   "metadata": {},
   "outputs": [
    {
     "data": {
      "text/plain": [
       "'Paul asps his bear in his house'"
      ]
     },
     "execution_count": 8,
     "metadata": {},
     "output_type": "execute_result"
    }
   ],
   "source": [
    "translation['translations'][0]['translation'] #mostrando el texto en inglés "
   ]
  },
  {
   "cell_type": "markdown",
   "metadata": {},
   "source": [
    "## \n",
    "# Identificando el idioma del texto traducido"
   ]
  },
  {
   "cell_type": "code",
   "execution_count": 9,
   "metadata": {},
   "outputs": [],
   "source": [
    "language = lt.identify('Paul asps his bear in his house').get_result()"
   ]
  },
  {
   "cell_type": "code",
   "execution_count": 10,
   "metadata": {},
   "outputs": [
    {
     "data": {
      "text/plain": [
       "{'languages': [{'language': 'en', 'confidence': 0.9997694070905818},\n",
       "  {'language': 'nl', 'confidence': 8.518477583071608e-05},\n",
       "  {'language': 'af', 'confidence': 6.007469760684881e-05},\n",
       "  {'language': 'de', 'confidence': 5.245807264187345e-05},\n",
       "  {'language': 'fr', 'confidence': 2.2536539955280458e-05},\n",
       "  {'language': 'es', 'confidence': 2.1622682767142594e-06},\n",
       "  {'language': 'pt', 'confidence': 1.6209910143457769e-06},\n",
       "  {'language': 'it', 'confidence': 1.6013240769469959e-06},\n",
       "  {'language': 'ro', 'confidence': 8.851539619947383e-07},\n",
       "  {'language': 'ga', 'confidence': 6.828337574237359e-07},\n",
       "  {'language': 'nn', 'confidence': 6.618969216787198e-07},\n",
       "  {'language': 'da', 'confidence': 4.7323100681567447e-07},\n",
       "  {'language': 'et', 'confidence': 3.429948399097489e-07},\n",
       "  {'language': 'sv', 'confidence': 3.356009228011174e-07},\n",
       "  {'language': 'nb', 'confidence': 2.7251020134213443e-07},\n",
       "  {'language': 'tr', 'confidence': 2.3194409041769094e-07},\n",
       "  {'language': 'ht', 'confidence': 1.3145976329943602e-07},\n",
       "  {'language': 'eu', 'confidence': 1.1786326702363228e-07},\n",
       "  {'language': 'lv', 'confidence': 1.068550518310916e-07},\n",
       "  {'language': 'ms', 'confidence': 1.0031302323120866e-07},\n",
       "  {'language': 'eo', 'confidence': 9.237179336794842e-08},\n",
       "  {'language': 'tl', 'confidence': 7.82699892733684e-08},\n",
       "  {'language': 'ku', 'confidence': 6.849892256756585e-08},\n",
       "  {'language': 'so', 'confidence': 6.784428927958178e-08},\n",
       "  {'language': 'lt', 'confidence': 6.131186927011883e-08},\n",
       "  {'language': 'sl', 'confidence': 5.964632247420698e-08},\n",
       "  {'language': 'ca', 'confidence': 4.9079230576359585e-08},\n",
       "  {'language': 'sq', 'confidence': 3.1844130416153354e-08},\n",
       "  {'language': 'fi', 'confidence': 1.763537365333354e-08},\n",
       "  {'language': 'mt', 'confidence': 1.5770623853929544e-08},\n",
       "  {'language': 'cs', 'confidence': 1.5019339829377782e-08},\n",
       "  {'language': 'is', 'confidence': 1.161765764117411e-08},\n",
       "  {'language': 'cy', 'confidence': 1.154065750036199e-08},\n",
       "  {'language': 'hu', 'confidence': 1.0961355815678701e-08},\n",
       "  {'language': 'sk', 'confidence': 6.0768129758477765e-09},\n",
       "  {'language': 'az', 'confidence': 4.352631879348505e-09},\n",
       "  {'language': 'vi', 'confidence': 3.624251128702758e-09},\n",
       "  {'language': 'zh', 'confidence': 1.7800472420779453e-09},\n",
       "  {'language': 'zh-TW', 'confidence': 1.487757430190666e-09},\n",
       "  {'language': 'hr', 'confidence': 1.2624324219534042e-09},\n",
       "  {'language': 'pl', 'confidence': 1.057847719376629e-09},\n",
       "  {'language': 'ja', 'confidence': 2.328404765219289e-10},\n",
       "  {'language': 'th', 'confidence': 5.3324297538473345e-11},\n",
       "  {'language': 'ko', 'confidence': 5.142893881780134e-11},\n",
       "  {'language': 'el', 'confidence': 3.070737167238477e-11},\n",
       "  {'language': 'hi', 'confidence': 2.5256448119715307e-11},\n",
       "  {'language': 'mn', 'confidence': 1.3859175666604438e-11},\n",
       "  {'language': 'my', 'confidence': 1.3044460261746733e-11},\n",
       "  {'language': 'ur', 'confidence': 1.1986015751206371e-11},\n",
       "  {'language': 'ru', 'confidence': 9.172917649526733e-12},\n",
       "  {'language': 'mr', 'confidence': 8.525663855143805e-12},\n",
       "  {'language': 'ar', 'confidence': 7.509370814314317e-12},\n",
       "  {'language': 'km', 'confidence': 5.980150011923352e-12},\n",
       "  {'language': 'lo', 'confidence': 5.594373187651861e-12},\n",
       "  {'language': 'sr', 'confidence': 5.510507295551969e-12},\n",
       "  {'language': 'pa', 'confidence': 4.580232872966556e-12},\n",
       "  {'language': 'bn', 'confidence': 4.572983418318666e-12},\n",
       "  {'language': 'ka', 'confidence': 4.525324534775267e-12},\n",
       "  {'language': 'he', 'confidence': 3.392507062409979e-12},\n",
       "  {'language': 'kk', 'confidence': 3.1803821164913333e-12},\n",
       "  {'language': 'ne', 'confidence': 3.039476493262141e-12},\n",
       "  {'language': 'uk', 'confidence': 2.882256068366631e-12},\n",
       "  {'language': 'hy', 'confidence': 2.7698628189841372e-12},\n",
       "  {'language': 'ta', 'confidence': 2.7258293221495254e-12},\n",
       "  {'language': 'ml', 'confidence': 2.6637154343465424e-12},\n",
       "  {'language': 'ky', 'confidence': 2.6022420717461764e-12},\n",
       "  {'language': 'bg', 'confidence': 2.586390695572904e-12},\n",
       "  {'language': 'be', 'confidence': 2.3465988199982544e-12},\n",
       "  {'language': 'ps', 'confidence': 2.156606241128833e-12},\n",
       "  {'language': 'fa', 'confidence': 2.0203673035466385e-12},\n",
       "  {'language': 'te', 'confidence': 2.008044268904806e-12},\n",
       "  {'language': 'pa-PK', 'confidence': 1.907658653643532e-12},\n",
       "  {'language': 'gu', 'confidence': 1.6690951256521397e-12},\n",
       "  {'language': 'cv', 'confidence': 1.4294824061346599e-12},\n",
       "  {'language': 'ba', 'confidence': 1.1321948910972456e-12},\n",
       "  {'language': 'si', 'confidence': 9.395839120655468e-13}]}"
      ]
     },
     "execution_count": 10,
     "metadata": {},
     "output_type": "execute_result"
    }
   ],
   "source": [
    "language # Comprobamos que en un 99.97% se trata del idioma inglés"
   ]
  },
  {
   "cell_type": "markdown",
   "metadata": {},
   "source": [
    "## \n",
    "# Texto a Voz"
   ]
  },
  {
   "cell_type": "markdown",
   "metadata": {},
   "source": [
    "Declaramos las dependencias"
   ]
  },
  {
   "cell_type": "code",
   "execution_count": 13,
   "metadata": {},
   "outputs": [],
   "source": [
    "ttsapikey = 'PweWU3X-ZZaacMRjsm6NLOqrtgIto-59v_9QS_mPnE3w'\n",
    "ttsurl = 'https://api.us-south.text-to-speech.watson.cloud.ibm.com/instances/1cb51eb3-72b3-4134-b1d3-4ec6f44b4a2b'"
   ]
  },
  {
   "cell_type": "code",
   "execution_count": 14,
   "metadata": {},
   "outputs": [],
   "source": [
    "from ibm_watson import TextToSpeechV1 #Importamos la librería que nos permita usar la API "
   ]
  },
  {
   "cell_type": "code",
   "execution_count": 15,
   "metadata": {},
   "outputs": [],
   "source": [
    "#configuramos las variables devlaradas para instanciar el servicio\n",
    "ttsauthenticator = IAMAuthenticator(ttsapikey)\n",
    "tts = TextToSpeechV1(authenticator=ttsauthenticator)\n",
    "tts.set_service_url(ttsurl)"
   ]
  },
  {
   "cell_type": "markdown",
   "metadata": {},
   "source": [
    " Traduciremos una cadena de texto a un idioma que se desee."
   ]
  },
  {
   "cell_type": "code",
   "execution_count": 18,
   "metadata": {},
   "outputs": [],
   "source": [
    "translation = lt.translate(text='Hola aquí desde Lima, Perú. Aquí nací y moriré hasta el fin de mis días', model_id='es-en').get_result()"
   ]
  },
  {
   "cell_type": "code",
   "execution_count": 19,
   "metadata": {},
   "outputs": [
    {
     "data": {
      "text/plain": [
       "'Hello here from Lima, Peru. Here I was born and I will die until the end of my days'"
      ]
     },
     "execution_count": 19,
     "metadata": {},
     "output_type": "execute_result"
    }
   ],
   "source": [
    "text = translation['translations'][0]['translation']\n",
    "text "
   ]
  },
  {
   "cell_type": "markdown",
   "metadata": {},
   "source": [
    "### Guardándolo como un archivo de voz"
   ]
  },
  {
   "cell_type": "markdown",
   "metadata": {},
   "source": [
    "Podemos elegir distintos tipos de idiomas y con el locutor que se desee.\n",
    "Para más información verificar la documentación. [Aquí](https://cloud.ibm.com/docs/text-to-speech?topic=text-to-speech-voices) "
   ]
  },
  {
   "cell_type": "code",
   "execution_count": 22,
   "metadata": {},
   "outputs": [],
   "source": [
    "with open('./archivo_voz.mp3', 'wb') as audio_file:\n",
    "    res = tts.synthesize(text, accept='audio/mp3', voice='en-US_KevinV3Voice').get_result()\n",
    "    audio_file.write(res.content)"
   ]
  }
 ],
 "metadata": {
  "kernelspec": {
   "display_name": "Python 3",
   "language": "python",
   "name": "python3"
  },
  "language_info": {
   "codemirror_mode": {
    "name": "ipython",
    "version": 3
   },
   "file_extension": ".py",
   "mimetype": "text/x-python",
   "name": "python",
   "nbconvert_exporter": "python",
   "pygments_lexer": "ipython3",
   "version": "3.8.3"
  }
 },
 "nbformat": 4,
 "nbformat_minor": 2
}
